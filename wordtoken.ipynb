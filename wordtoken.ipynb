{
 "cells": [
  {
   "cell_type": "code",
   "execution_count": 3,
   "metadata": {
    "collapsed": true
   },
   "outputs": [],
   "source": [
    "import pandas as pd\n",
    "\n",
    "df = pd.read_excel(\"test.xlsx\")"
   ]
  },
  {
   "cell_type": "code",
   "execution_count": 11,
   "outputs": [
    {
     "name": "stdout",
     "output_type": "stream",
     "text": [
      "                                                  title\n",
      "0     ASML Stays Positive Despite Being Caught by U....\n",
      "1     Broadcom (AVGO) Selling Off Despite Strong Qua...\n",
      "2     Broadcom Inc. Announces Early Results of Previ...\n",
      "3        ASML Holding: Buy All You Can (Just Not Today)\n",
      "4     China's $150 Billion Chip Push Has Hit a Dutch...\n",
      "...                                                 ...\n",
      "1287     The Top Movies and TV Shows on Netflix in 2021\n",
      "1288  Wyomingite picked as Broadcom Science Fair Top...\n",
      "1289  This brand new high-octane thriller on Netflix...\n",
      "1290  Microsoft sets Nov. 1 deadline for shutting of...\n",
      "1291  Microsoft Flight Simulator Top Gun: Maverick E...\n",
      "\n",
      "[1292 rows x 1 columns]\n"
     ]
    }
   ],
   "source": [
    "a = df.loc[:,['title']]\n",
    "print(a)\n"
   ],
   "metadata": {
    "collapsed": false,
    "pycharm": {
     "name": "#%%\n"
    }
   }
  }
 ],
 "metadata": {
  "kernelspec": {
   "display_name": "Python 3",
   "language": "python",
   "name": "python3"
  },
  "language_info": {
   "codemirror_mode": {
    "name": "ipython",
    "version": 2
   },
   "file_extension": ".py",
   "mimetype": "text/x-python",
   "name": "python",
   "nbconvert_exporter": "python",
   "pygments_lexer": "ipython2",
   "version": "2.7.6"
  }
 },
 "nbformat": 4,
 "nbformat_minor": 0
}